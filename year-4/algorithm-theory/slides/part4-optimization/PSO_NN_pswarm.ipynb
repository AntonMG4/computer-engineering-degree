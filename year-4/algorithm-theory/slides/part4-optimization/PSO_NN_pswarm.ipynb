{
 "cells": [
  {
   "cell_type": "code",
   "execution_count": null,
   "id": "7b8eda3b",
   "metadata": {
    "scrolled": true
   },
   "outputs": [],
   "source": [
    "pip install --upgrade pyswarm"
   ]
  },
  {
   "cell_type": "code",
   "execution_count": 1,
   "id": "badcf985-d37a-4c14-80c5-5f05031c2b6d",
   "metadata": {
    "scrolled": true
   },
   "outputs": [
    {
     "name": "stderr",
     "output_type": "stream",
     "text": [
      "C:\\Users\\rmx\\AppData\\Local\\Temp\\ipykernel_21556\\267469941.py:11: FutureWarning: The 'delim_whitespace' keyword in pd.read_csv is deprecated and will be removed in a future version. Use ``sep='\\s+'`` instead\n",
      "  data = pd.read_csv(url, delim_whitespace=True, names=column_names)\n"
     ]
    },
    {
     "name": "stdout",
     "output_type": "stream",
     "text": [
      "    mpg  cylinders  displacement horsepower  weight  acceleration  model_year  \\\n",
      "0  18.0          8         307.0      130.0  3504.0          12.0          70   \n",
      "1  15.0          8         350.0      165.0  3693.0          11.5          70   \n",
      "2  18.0          8         318.0      150.0  3436.0          11.0          70   \n",
      "3  16.0          8         304.0      150.0  3433.0          12.0          70   \n",
      "4  17.0          8         302.0      140.0  3449.0          10.5          70   \n",
      "\n",
      "   origin                   car_name  \n",
      "0       1  chevrolet chevelle malibu  \n",
      "1       1          buick skylark 320  \n",
      "2       1         plymouth satellite  \n",
      "3       1              amc rebel sst  \n",
      "4       1                ford torino  \n"
     ]
    }
   ],
   "source": [
    "import pandas as pd\n",
    "import numpy as np\n",
    "from sklearn.model_selection import train_test_split\n",
    "from sklearn.preprocessing import StandardScaler\n",
    "from sklearn.neural_network import MLPRegressor\n",
    "from sklearn.metrics import mean_squared_error\n",
    "\n",
    "# Load the Auto MPG dataset\n",
    "url = 'https://archive.ics.uci.edu/ml/machine-learning-databases/auto-mpg/auto-mpg.data'\n",
    "column_names = ['mpg', 'cylinders', 'displacement', 'horsepower', 'weight', 'acceleration', 'model_year', 'origin', 'car_name']\n",
    "data = pd.read_csv(url, delim_whitespace=True, names=column_names)\n",
    "\n",
    "print(data.head())\n"
   ]
  },
  {
   "cell_type": "code",
   "execution_count": 3,
   "id": "f2f578c2-ef67-4644-8563-43bc2b592ccd",
   "metadata": {},
   "outputs": [
    {
     "name": "stdout",
     "output_type": "stream",
     "text": [
      "    mpg  cylinders  displacement  horsepower  weight  acceleration\n",
      "0  18.0          8         307.0       130.0  3504.0          12.0\n",
      "1  15.0          8         350.0       165.0  3693.0          11.5\n",
      "2  18.0          8         318.0       150.0  3436.0          11.0\n",
      "3  16.0          8         304.0       150.0  3433.0          12.0\n",
      "4  17.0          8         302.0       140.0  3449.0          10.5\n"
     ]
    }
   ],
   "source": [
    "# Preprocess the data\n",
    "data = data.replace('?', np.nan)  # Replace missing values marked as '?'\n",
    "data = data.dropna()  # Drop rows with missing values\n",
    "data['horsepower'] = pd.to_numeric(data['horsepower'])  # Convert horsepower to numeric\n",
    "data = data.drop(columns=['car_name','origin','model_year'])  # Drop the irrelevant variables\n",
    "\n",
    "print(data.head())"
   ]
  },
  {
   "cell_type": "code",
   "execution_count": 5,
   "id": "f8916165-e355-4571-ac6d-9dfe3280ef33",
   "metadata": {},
   "outputs": [],
   "source": [
    "# Split into features and target\n",
    "X1 = data.drop(columns=['acceleration'])  # Features\n",
    "y = data['acceleration']  # Target"
   ]
  },
  {
   "cell_type": "code",
   "execution_count": 7,
   "id": "c04a5175-8d97-4276-b841-5f0da0cab641",
   "metadata": {},
   "outputs": [
    {
     "name": "stdout",
     "output_type": "stream",
     "text": [
      "Mean Squared Error: 2.535989036321592\n",
      "Example Predictions: [17.24444908 13.65421722 16.54270254 15.86423045 17.57148226]\n"
     ]
    }
   ],
   "source": [
    "# Standardize features\n",
    "scaler = StandardScaler()\n",
    "X = scaler.fit_transform(X1)\n",
    "\n",
    "# Split the data into training and testing sets\n",
    "X_train, X_test, y_train, y_test = train_test_split(X, y, test_size=0.1, random_state=42)\n",
    "\n",
    "# Define and train the neural network\n",
    "model = MLPRegressor(hidden_layer_sizes=(64, 32), activation='relu', solver='adam', max_iter=100000, random_state=42)\n",
    "model.fit(X_train, y_train)\n",
    "\n",
    "# Evaluate the model\n",
    "y_pred = model.predict(X_test)\n",
    "mse = mean_squared_error(y_test, y_pred)\n",
    "print(f\"Mean Squared Error: {mse}\")\n",
    "\n",
    "# Example predictions\n",
    "print(f\"Example Predictions: {y_pred[:5]}\")"
   ]
  },
  {
   "cell_type": "code",
   "execution_count": 8,
   "id": "ff5dd6f8-c0a7-4422-9f8e-70ea88d86ed6",
   "metadata": {},
   "outputs": [
    {
     "data": {
      "text/plain": [
       "array([[ 0.32765448, -0.86401356, -0.94164742, -0.92267201, -0.92958509],\n",
       "       [-0.23680661, -0.86401356, -0.70243687,  0.27393484, -0.21523071],\n",
       "       [ 1.62334924, -0.86401356, -0.98948953, -1.15679075, -1.38813931],\n",
       "       [ 0.32765448, -0.86401356, -0.98948953, -0.89665882, -1.20542491],\n",
       "       [ 0.45594109, -0.86401356, -0.52063686, -0.48044774, -0.22112473]])"
      ]
     },
     "execution_count": 8,
     "metadata": {},
     "output_type": "execute_result"
    }
   ],
   "source": [
    "X_test[:5]"
   ]
  },
  {
   "cell_type": "code",
   "execution_count": 9,
   "id": "c729342a-b821-438f-a10f-e7984074327b",
   "metadata": {},
   "outputs": [
    {
     "data": {
      "text/plain": [
       "<bound method DataFrame.min of                   0             1             2             3             4\n",
       "count  3.920000e+02  3.920000e+02  3.920000e+02  3.920000e+02  3.920000e+02\n",
       "mean   1.450087e-16 -1.087565e-16 -7.250436e-17 -1.812609e-16 -1.812609e-17\n",
       "std    1.001278e+00  1.001278e+00  1.001278e+00  1.001278e+00  1.001278e+00\n",
       "min   -1.853218e+00 -1.451004e+00 -1.209563e+00 -1.520975e+00 -1.608575e+00\n",
       "25%   -8.269250e-01 -8.640136e-01 -8.555316e-01 -7.665929e-01 -8.868535e-01\n",
       "50%   -8.927701e-02 -8.640136e-01 -4.153842e-01 -2.853488e-01 -2.052109e-01\n",
       "75%    7.125143e-01  1.483947e+00  7.782764e-01  5.600800e-01  7.510927e-01\n",
       "max    2.970359e+00  1.483947e+00  2.493416e+00  3.265452e+00  2.549061e+00>"
      ]
     },
     "execution_count": 9,
     "metadata": {},
     "output_type": "execute_result"
    }
   ],
   "source": [
    "df=pd.DataFrame(X).describe()\n",
    "df.min"
   ]
  },
  {
   "cell_type": "code",
   "execution_count": 8,
   "id": "dc868752-c228-4da3-acbb-28156b53e8d4",
   "metadata": {},
   "outputs": [
    {
     "name": "stdout",
     "output_type": "stream",
     "text": [
      "[-1.8532179  -1.4510037  -1.20956322 -1.52097544 -1.6085754 ]\n"
     ]
    }
   ],
   "source": [
    "min_values = np.min(X, axis=0)\n",
    "max_values = np.max(X, axis=0)\n",
    "print(min_values)"
   ]
  },
  {
   "cell_type": "code",
   "execution_count": 27,
   "id": "f5d574a2-a6be-4012-9c76-c94613e43f39",
   "metadata": {},
   "outputs": [
    {
     "name": "stdout",
     "output_type": "stream",
     "text": [
      "Help on function pso in module pyswarm.pso:\n",
      "\n",
      "pso(func, lb, ub, ieqcons=[], f_ieqcons=None, args=(), kwargs={}, swarmsize=100, omega=0.5, phip=0.5, phig=0.5, maxiter=100, minstep=1e-08, minfunc=1e-08, debug=False)\n",
      "    Perform a particle swarm optimization (PSO)\n",
      "\n",
      "    Parameters\n",
      "    ==========\n",
      "    func : function\n",
      "        The function to be minimized\n",
      "    lb : array\n",
      "        The lower bounds of the design variable(s)\n",
      "    ub : array\n",
      "        The upper bounds of the design variable(s)\n",
      "\n",
      "    Optional\n",
      "    ========\n",
      "    ieqcons : list\n",
      "        A list of functions of length n such that ieqcons[j](x,*args) >= 0.0 in\n",
      "        a successfully optimized problem (Default: [])\n",
      "    f_ieqcons : function\n",
      "        Returns a 1-D array in which each element must be greater or equal\n",
      "        to 0.0 in a successfully optimized problem. If f_ieqcons is specified,\n",
      "        ieqcons is ignored (Default: None)\n",
      "    args : tuple\n",
      "        Additional arguments passed to objective and constraint functions\n",
      "        (Default: empty tuple)\n",
      "    kwargs : dict\n",
      "        Additional keyword arguments passed to objective and constraint\n",
      "        functions (Default: empty dict)\n",
      "    swarmsize : int\n",
      "        The number of particles in the swarm (Default: 100)\n",
      "    omega : scalar\n",
      "        Particle velocity scaling factor (Default: 0.5)\n",
      "    phip : scalar\n",
      "        Scaling factor to search away from the particle's best known position\n",
      "        (Default: 0.5)\n",
      "    phig : scalar\n",
      "        Scaling factor to search away from the swarm's best known position\n",
      "        (Default: 0.5)\n",
      "    maxiter : int\n",
      "        The maximum number of iterations for the swarm to search (Default: 100)\n",
      "    minstep : scalar\n",
      "        The minimum stepsize of swarm's best position before the search\n",
      "        terminates (Default: 1e-8)\n",
      "    minfunc : scalar\n",
      "        The minimum change of swarm's best objective value before the search\n",
      "        terminates (Default: 1e-8)\n",
      "    debug : boolean\n",
      "        If True, progress statements will be displayed every iteration\n",
      "        (Default: False)\n",
      "\n",
      "    Returns\n",
      "    =======\n",
      "    g : array\n",
      "        The swarm's best known position (optimal design)\n",
      "    f : scalar\n",
      "        The objective value at ``g``\n",
      "\n"
     ]
    }
   ],
   "source": [
    "help(pso)"
   ]
  },
  {
   "cell_type": "code",
   "execution_count": 11,
   "id": "30d741db-b34f-4137-b188-9a56bdb39587",
   "metadata": {},
   "outputs": [
    {
     "data": {
      "text/plain": [
       "array([19.37251315])"
      ]
     },
     "execution_count": 11,
     "metadata": {},
     "output_type": "execute_result"
    }
   ],
   "source": [
    "model.predict(max_values.reshape(1, -1))"
   ]
  },
  {
   "cell_type": "code",
   "execution_count": 17,
   "id": "213b6c25",
   "metadata": {},
   "outputs": [
    {
     "name": "stdout",
     "output_type": "stream",
     "text": [
      "Stopping search: Swarm best objective change less than 1e-08\n",
      "[-0.08823872  1.33523015  0.64249831  1.419391   -1.04528405]\n",
      "[[  22.75809347    7.74664503  261.55977348  159.033663   2090.85043934]]\n",
      "[6.271794]\n",
      "[6.271794]\n"
     ]
    }
   ],
   "source": [
    "from pyswarm import pso\n",
    "\n",
    "def objective_function(x):\n",
    "    return model.predict(x.reshape(1, -1))\n",
    "\n",
    "lb = min_values\n",
    "ub = max_values\n",
    "\n",
    "best_pos, best_cost = pso(objective_function, lb, ub, swarmsize=1000, maxiter =1000)\n",
    "print(best_pos)\n",
    "print(scaler.inverse_transform(best_pos.reshape(1, -1)))\n",
    "print(model.predict(best_pos.reshape(1, -1)))\n",
    "print(best_cost)"
   ]
  },
  {
   "cell_type": "code",
   "execution_count": 34,
   "id": "18fd3c96-eeac-4f10-ad4a-b07a7ef8eba4",
   "metadata": {},
   "outputs": [
    {
     "name": "stdout",
     "output_type": "stream",
     "text": [
      "[ 1.87692376 -1.4510037   0.41102161  0.84255898 -1.16154685]\n",
      "[[  38.076625      3.          237.36804043  136.85906782 1992.22256809]]\n",
      "[6.69590064]\n",
      "[6.69590064]\n"
     ]
    }
   ],
   "source": [
    "np.set_printoptions(suppress=True)\n",
    "print(best_pos)\n",
    "print(scaler.inverse_transform(best_pos.reshape(1, -1)))\n",
    "print(model.predict(best_pos.reshape(1, -1)))\n",
    "print(best_cost)"
   ]
  },
  {
   "cell_type": "code",
   "execution_count": null,
   "id": "4972367a-2e98-41af-aac9-377fd1a1cb5b",
   "metadata": {},
   "outputs": [],
   "source": [
    "scaler.inverse_transform(X)"
   ]
  },
  {
   "cell_type": "code",
   "execution_count": null,
   "id": "c81516a7",
   "metadata": {},
   "outputs": [],
   "source": [
    "X"
   ]
  },
  {
   "cell_type": "code",
   "execution_count": null,
   "id": "c6e017c0",
   "metadata": {},
   "outputs": [],
   "source": [
    "fopt"
   ]
  },
  {
   "cell_type": "code",
   "execution_count": null,
   "id": "45fb62d3",
   "metadata": {},
   "outputs": [],
   "source": [
    "pso(banana, lb, ub, f_ieqcons=con)"
   ]
  },
  {
   "cell_type": "code",
   "execution_count": null,
   "id": "87b78558",
   "metadata": {},
   "outputs": [
    {
     "data": {
      "text/plain": [
       "(array([29.48385313, 14.80213391]), 1e+100)"
      ]
     },
     "execution_count": 116,
     "metadata": {},
     "output_type": "execute_result"
    }
   ],
   "source": [
    "def banana(x):\n",
    "    x1 = x[0]\n",
    "    y1 = x[1]\n",
    "    return +(-x1 - 2*y1)\n",
    "\n",
    "def con(x):\n",
    "    x1 = x[0]\n",
    "    print(\"con:x1 \", x1)\n",
    "    y1 = x[1]\n",
    "    print(\"con:y1 \", y1)\n",
    "    return -2*x1 - y1 +20\n",
    "\n",
    "lb = [0, 0]\n",
    "ub = [1000, 40]\n",
    "\n",
    "pso(banana, lb=lb, ub=ub, ieqcons=[con], maxiter=100, debug = True, \n",
    "          swarmsize=100, omega=5, phip=1000, phig=5)\n"
   ]
  },
  {
   "cell_type": "code",
   "execution_count": null,
   "id": "7056e319",
   "metadata": {},
   "outputs": [],
   "source": [
    "xopt"
   ]
  },
  {
   "cell_type": "code",
   "execution_count": null,
   "id": "97bb07dc",
   "metadata": {},
   "outputs": [],
   "source": [
    "fopt"
   ]
  },
  {
   "cell_type": "code",
   "execution_count": null,
   "id": "4e93f469",
   "metadata": {},
   "outputs": [],
   "source": []
  }
 ],
 "metadata": {
  "kernelspec": {
   "display_name": "Python [conda env:base] *",
   "language": "python",
   "name": "conda-base-py"
  },
  "language_info": {
   "codemirror_mode": {
    "name": "ipython",
    "version": 3
   },
   "file_extension": ".py",
   "mimetype": "text/x-python",
   "name": "python",
   "nbconvert_exporter": "python",
   "pygments_lexer": "ipython3",
   "version": "3.12.7"
  }
 },
 "nbformat": 4,
 "nbformat_minor": 5
}
